{
  "cells": [
    {
      "cell_type": "markdown",
      "metadata": {},
      "source": [
        "# Day 11: Payment Fraud Risk Detection in Online Transactions"
      ]
    },
    {
      "cell_type": "markdown",
      "metadata": {},
      "source": [
        "You are a data analyst in Stripe's risk management team investigating transaction patterns to identify potential fraud. The team needs to develop a systematic approach to screen transactions for financial risks. Your goal is to create an initial risk assessment methodology using transaction characteristics."
      ]
    },
    {
      "cell_type": "code",
      "metadata": {},
      "execution_count": null,
      "outputs": [],
      "source": "import pandas as pd\nimport numpy as np\n\ndim_risk_flags_data = [\n  {\n    \"risk_level\": \"Low\",\n    \"risk_flag_id\": 1,\n    \"transaction_id\": 2\n  },\n  {\n    \"risk_level\": \"Medium\",\n    \"risk_flag_id\": 2,\n    \"transaction_id\": 7\n  },\n  {\n    \"risk_level\": \"High\",\n    \"risk_flag_id\": 3,\n    \"transaction_id\": 11\n  },\n  {\n    \"risk_level\": \"High\",\n    \"risk_flag_id\": 4,\n    \"transaction_id\": 12\n  },\n  {\n    \"risk_level\": \"High\",\n    \"risk_flag_id\": 5,\n    \"transaction_id\": 13\n  },\n  {\n    \"risk_level\": \"Medium\",\n    \"risk_flag_id\": 6,\n    \"transaction_id\": 14\n  },\n  {\n    \"risk_level\": \"High\",\n    \"risk_flag_id\": 7,\n    \"transaction_id\": 15\n  },\n  {\n    \"risk_level\": \"Low\",\n    \"risk_flag_id\": 8,\n    \"transaction_id\": 1\n  },\n  {\n    \"risk_level\": \"Medium\",\n    \"risk_flag_id\": 9,\n    \"transaction_id\": 6\n  },\n  {\n    \"risk_level\": \"Low\",\n    \"risk_flag_id\": 10,\n    \"transaction_id\": 3\n  }\n]\ndim_risk_flags = pd.DataFrame(dim_risk_flags_data)\n\nfct_transactions_data = [\n  {\n    \"customer_email\": \"alice@gmail.com\",\n    \"transaction_id\": 1,\n    \"transaction_date\": \"2024-10-05\",\n    \"transaction_amount\": 120,\n    \"fraud_detection_score\": 10\n  },\n  {\n    \"customer_email\": \"bob@customdomain.com\",\n    \"transaction_id\": 2,\n    \"transaction_date\": \"2024-10-15\",\n    \"transaction_amount\": 250.5,\n    \"fraud_detection_score\": 20\n  },\n  {\n    \"customer_email\": \"charlie@yahoo.com\",\n    \"transaction_id\": 3,\n    \"transaction_date\": \"2024-10-20\",\n    \"transaction_amount\": 75.25,\n    \"fraud_detection_score\": 15\n  },\n  {\n    \"customer_email\": \"dana@hotmail.com\",\n    \"transaction_id\": 4,\n    \"transaction_date\": \"2024-10-25\",\n    \"transaction_amount\": 100,\n    \"fraud_detection_score\": 30\n  },\n  {\n    \"customer_email\": \"eve@biz.org\",\n    \"transaction_id\": 5,\n    \"transaction_date\": \"2024-10-30\",\n    \"transaction_amount\": 300,\n    \"fraud_detection_score\": 40\n  },\n  {\n    \"customer_email\": \"frank@gmail.com\",\n    \"transaction_id\": 6,\n    \"transaction_date\": \"2024-11-03\",\n    \"transaction_amount\": 150.75,\n    \"fraud_detection_score\": 25\n  },\n  {\n    \"customer_email\": \"grace@outlook.com\",\n    \"transaction_id\": 7,\n    \"transaction_date\": \"2024-11-10\",\n    \"transaction_amount\": null,\n    \"fraud_detection_score\": 50\n  },\n  {\n    \"customer_email\": \"ivan@yahoo.com\",\n    \"transaction_id\": 8,\n    \"transaction_date\": \"2024-11-15\",\n    \"transaction_amount\": 200,\n    \"fraud_detection_score\": 35\n  },\n  {\n    \"customer_email\": \"judy@hotmail.com\",\n    \"transaction_id\": 9,\n    \"transaction_date\": \"2024-11-21\",\n    \"transaction_amount\": 250,\n    \"fraud_detection_score\": 45\n  },\n  {\n    \"customer_email\": \"ken@domain.net\",\n    \"transaction_id\": 10,\n    \"transaction_date\": \"2024-11-29\",\n    \"transaction_amount\": 300,\n    \"fraud_detection_score\": 55\n  },\n  {\n    \"customer_email\": \"laura@riskmail.com\",\n    \"transaction_id\": 11,\n    \"transaction_date\": \"2024-12-02\",\n    \"transaction_amount\": 100,\n    \"fraud_detection_score\": 80\n  },\n  {\n    \"customer_email\": \"mike@securepay.com\",\n    \"transaction_id\": 12,\n    \"transaction_date\": \"2024-12-03\",\n    \"transaction_amount\": 180,\n    \"fraud_detection_score\": 85\n  },\n  {\n    \"customer_email\": \"nina@trusthub.com\",\n    \"transaction_id\": 13,\n    \"transaction_date\": \"2024-12-09\",\n    \"transaction_amount\": 220,\n    \"fraud_detection_score\": 90\n  },\n  {\n    \"customer_email\": \"oscar@fintech.com\",\n    \"transaction_id\": 14,\n    \"transaction_date\": \"2024-12-16\",\n    \"transaction_amount\": 140,\n    \"fraud_detection_score\": 70\n  },\n  {\n    \"customer_email\": \"paula@alertsys.com\",\n    \"transaction_id\": 15,\n    \"transaction_date\": \"2024-12-23\",\n    \"transaction_amount\": 260,\n    \"fraud_detection_score\": 95\n  }\n]\nfct_transactions = pd.DataFrame(fct_transactions_data)\n"
    },
    {
      "cell_type": "markdown",
      "metadata": {},
      "source": [
        "## Question 1\n\nHow many transactions in October 2024 have a customer email ending with a domain other than 'gmail.com', 'yahoo.com', or 'hotmail.com'? This metric will help us identify transactions associated with less common email providers that may indicate emerging risk patterns."
      ]
    },
    {
      "cell_type": "code",
      "metadata": {},
      "execution_count": null,
      "outputs": [],
      "source": "fct_transactions['transaction_date'] = pd.to_datetime(fct_transactions['transaction_date'])\n\noctober_2024_mask = (\n    (fct_transactions['transaction_date'].dt.year == 2024) & \n    (fct_transactions['transaction_date'].dt.month == 10)\n)\noctober_transactions = fct_transactions[october_2024_mask]\n\ncommon_domains = ['gmail.com', 'yahoo.com', 'hotmail.com']\n\n\ndef has_uncommon_domain(email):\n    \"\"\"Check if email has a domain other than gmail, yahoo, or hotmail\"\"\"\n    if pd.isna(email):\n        return False\n    email_lower = email.lower()\n    return not any(email_lower.endswith('@' + domain) for domain in common_domains)\n\nuncommon_domain_mask = october_transactions['customer_email'].apply(has_uncommon_domain)\nuncommon_domain_transactions = october_transactions[uncommon_domain_mask]\n\n\ntransaction_count = len(uncommon_domain_transactions)\nprint(f\"Transactions in October 2024 with uncommon email domains: {transaction_count}\")\n\n\nunique_customers = uncommon_domain_transactions['customer_email'].nunique()\navg_transaction_amount = uncommon_domain_transactions['transaction_amount'].mean()\navg_fraud_score = uncommon_domain_transactions['fraud_detection_score'].mean()\n\nprint(f\"\\nDetailed Analysis:\")\nprint(f\"- Total transactions: {transaction_count}\")\nprint(f\"- Unique customers: {unique_customers}\")\nprint(f\"- Average transaction amount: ${avg_transaction_amount:.2f}\")\nprint(f\"- Average fraud detection score: {avg_fraud_score:.2f}\")\n\n\ndef extract_domain(email):\n    \"\"\"Extract domain from email address\"\"\"\n    if pd.isna(email):\n        return None\n    return email.split('@')[-1].lower()\n\n\nuncommon_domain_transactions['email_domain'] = uncommon_domain_transactions['customer_email'].apply(extract_domain)\n\n\ndomain_analysis = uncommon_domain_transactions.groupby('email_domain').agg({\n    'transaction_id': 'count',\n    'customer_email': 'nunique',\n    'transaction_amount': 'mean',\n    'fraud_detection_score': 'mean'\n}).rename(columns={\n    'transaction_id': 'transaction_count',\n    'customer_email': 'unique_customers',\n    'transaction_amount': 'avg_transaction_amount',\n    'fraud_detection_score': 'avg_fraud_score'\n}).round(2)\n\ntop_domains = domain_analysis.sort_values('transaction_count', ascending=False).head(10)\n\nprint(f\"\\nTop 10 Email Domains (Non-Common):\")\nprint(top_domains)\n\n\nhigh_risk_domains = domain_analysis[domain_analysis['avg_fraud_score'] > domain_analysis['avg_fraud_score'].mean()]\nhigh_risk_domains_sorted = high_risk_domains.sort_values('avg_fraud_score', ascending=False)\n\nprint(f\"\\nHigh-Risk Domains (Above Average Fraud Score):\")\nprint(high_risk_domains_sorted)\n\n\nprint(f\"\\nRisk Insights:\")\nprint(f\"- Domains with avg fraud score > 0.7: {len(domain_analysis[domain_analysis['avg_fraud_score'] > 0.7])}\")\nprint(f\"- Domains with only 1 transaction: {len(domain_analysis[domain_analysis['transaction_count'] == 1])}\")\nprint(f\"- Corporate domains (containing company indicators): \", end=\"\")\n\n\ncorporate_indicators = ['.org', '.edu', '.gov', '.co.', 'corp', 'company']\ncorporate_domains = domain_analysis[\n    domain_analysis.index.str.contains('|'.join(corporate_indicators), case=False, na=False)\n]\nprint(f\"{len(corporate_domains)}\")\n\n\n\nprint(f\"- Transactions with uncommon domains: {transaction_count}\")"
    },
    {
      "cell_type": "markdown",
      "metadata": {},
      "source": [
        "## Question 2\n\nFor transactions occurring in November 2024, what is the average transaction amount, using 0 as a default for any missing values? This calculation will help us detect abnormal transaction amounts that could be related to fraudulent activity."
      ]
    },
    {
      "cell_type": "code",
      "metadata": {},
      "execution_count": null,
      "outputs": [],
      "source": "fct_transactions['transaction_date'] = pd.to_datetime(fct_transactions['transaction_date'])\n\nnovember_2024_mask = (\n    (fct_transactions['transaction_date'].dt.year == 2024) & \n    (fct_transactions['transaction_date'].dt.month == 11)\n)\nnovember_transactions = fct_transactions[november_2024_mask].copy()\n\nnovember_transactions['transaction_amount'] = november_transactions['transaction_amount'].fillna(0)\n\navg_transaction_amount = november_transactions['transaction_amount'].mean()\n\nprint(f\"Average transaction amount for November 2024: ${avg_transaction_amount:.2f}\")\n\nprint(f\"\\nDetailed Analysis for November 2024:\")\nprint(f\"- Total transactions: {len(november_transactions)}\")\nprint(f\"- Missing values filled with 0: {fct_transactions[november_2024_mask]['transaction_amount'].isna().sum()}\")\nprint(f\"- Transactions with $0 amount: {(november_transactions['transaction_amount'] == 0).sum()}\")\n\ntransaction_stats = november_transactions['transaction_amount'].describe()\nprint(f\"\\nTransaction Amount Statistics:\")\nprint(f\"- Mean: ${transaction_stats['mean']:.2f}\")\nprint(f\"- Median: ${transaction_stats['50%']:.2f}\")\nprint(f\"- Standard deviation: ${transaction_stats['std']:.2f}\")\nprint(f\"- Minimum: ${transaction_stats['min']:.2f}\")\nprint(f\"- Maximum: ${transaction_stats['max']:.2f}\")\n\n\nprint(f\"\\nFraud Detection Insights:\")\n\nQ1 = transaction_stats['25%']\nQ3 = transaction_stats['75%']\nIQR = Q3 - Q1\nlower_bound = Q1 - 1.5 * IQR\nupper_bound = Q3 + 1.5 * IQR\n\noutliers_low = november_transactions[november_transactions['transaction_amount'] < lower_bound]\noutliers_high = november_transactions[november_transactions['transaction_amount'] > upper_bound]\n\nprint(f\"- Outliers (unusually low amounts): {len(outliers_low)} transactions\")\nprint(f\"- Outliers (unusually high amounts): {len(outliers_high)} transactions\")\n\nhigh_value_threshold = transaction_stats['mean'] + 2 * transaction_stats['std']\nhigh_value_transactions = november_transactions[november_transactions['transaction_amount'] > high_value_threshold]\nprint(f\"- High-value transactions (>2 std dev above mean): {len(high_value_transactions)}\")\n\nzero_amount_transactions = november_transactions[november_transactions['transaction_amount'] == 0]\nif len(zero_amount_transactions) > 0:\n    avg_fraud_score_zero = zero_amount_transactions['fraud_detection_score'].mean()\n    print(f\"- Average fraud score for $0 transactions: {avg_fraud_score_zero:.3f}\")\n\n\ncorrelation = november_transactions['transaction_amount'].corr(november_transactions['fraud_detection_score'])\nprint(f\"- Correlation between transaction amount and fraud score: {correlation:.3f}\")\n\n\nprint(f\"\\nRisk Segmentation:\")\nnovember_transactions['amount_category'] = pd.cut(\n    november_transactions['transaction_amount'], \n    bins=[0, 50, 200, 1000, float('inf')], \n    labels=['Low ($0-50)', 'Medium ($50-200)', 'High ($200-1000)', 'Very High (>$1000)']\n)\n\nrisk_by_amount = november_transactions.groupby('amount_category', observed=True).agg({\n    'transaction_id': 'count',\n    'fraud_detection_score': 'mean'\n}).rename(columns={\n    'transaction_id': 'transaction_count',\n    'fraud_detection_score': 'avg_fraud_score'\n}).round(3)\n\nprint(risk_by_amount)\n\nprint(f\"\\n🎯 ANSWER: ${avg_transaction_amount:.2f}\")"
    },
    {
      "cell_type": "markdown",
      "metadata": {},
      "source": [
        "## Question 3\n\nAmong transactions flagged as 'High' risk in December 2024, which day of the week recorded the highest number of such transactions? This analysis is intended to pinpoint specific days with concentrated high-risk activity and support the development of our preliminary fraud detection score."
      ]
    },
    {
      "cell_type": "code",
      "metadata": {},
      "execution_count": null,
      "outputs": [],
      "source": "fct_transactions['transaction_date'] = pd.to_datetime(fct_transactions['transaction_date'])\n\n\ntransactions_with_risk = fct_transactions.merge(\n    dim_risk_flags, \n    on='transaction_id', \n    how='inner'\n)\n\ndecember_2024_mask = (\n    (transactions_with_risk['transaction_date'].dt.year == 2024) & \n    (transactions_with_risk['transaction_date'].dt.month == 12)\n)\nhigh_risk_mask = transactions_with_risk['risk_level'] == 'High'\n\ndecember_high_risk = transactions_with_risk[december_2024_mask & high_risk_mask].copy()\n\ndecember_high_risk['day_of_week'] = december_high_risk['transaction_date'].dt.day_name()\ndecember_high_risk['day_of_week_num'] = december_high_risk['transaction_date'].dt.dayofweek\n\nday_counts = december_high_risk.groupby('day_of_week').size().reset_index(name='transaction_count')\n\nday_counts_sorted = day_counts.sort_values('transaction_count', ascending=False)\n\nhighest_day = day_counts_sorted.iloc[0]['day_of_week']\n\nprint(highest_day)"
    },
    {
      "cell_type": "markdown",
      "metadata": {},
      "source": [
        "Made with ❤️ by [Interview Master](https://www.interviewmaster.ai)"
      ]
    }
  ],
  "metadata": {
    "kernelspec": {
      "name": "python3",
      "language": "python",
      "display_name": "Python 3"
    },
    "language_info": {
      "name": "python",
      "version": "3",
      "mimetype": "text/x-python",
      "file_extension": ".py"
    }
  },
  "nbformat": 4,
  "nbformat_minor": 5
}
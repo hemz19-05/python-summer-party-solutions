{
  "cells": [
    {
      "cell_type": "markdown",
      "metadata": {},
      "source": [
        "# Day 7: Celebrity Product Drops Sales Performance Analysis"
      ]
    },
    {
      "cell_type": "markdown",
      "metadata": {},
      "source": [
        "You are a Product Analyst working on Nike's marketing performance team. Your team wants to evaluate the effectiveness of celebrity product collaborations by analyzing sales data. You will investigate the performance of celebrity product drops to inform future marketing strategies."
      ]
    },
    {
      "cell_type": "code",
      "metadata": {},
      "execution_count": null,
      "outputs": [],
      "source": "import pandas as pd\nimport numpy as np\n\nfct_sales_data = [\n  {\n    \"sale_id\": 1,\n    \"sale_date\": \"2025-01-10\",\n    \"product_id\": 901,\n    \"sale_amount\": null,\n    \"celebrity_id\": 101\n  },\n  {\n    \"sale_id\": 2,\n    \"sale_date\": \"2025-01-15\",\n    \"product_id\": 901,\n    \"sale_amount\": 1500,\n    \"celebrity_id\": 101\n  },\n  {\n    \"sale_id\": 3,\n    \"sale_date\": \"2025-02-03\",\n    \"product_id\": 902,\n    \"sale_amount\": 2000.5,\n    \"celebrity_id\": 102\n  },\n  {\n    \"sale_id\": 4,\n    \"sale_date\": \"2025-03-12\",\n    \"product_id\": 903,\n    \"sale_amount\": 2500.75,\n    \"celebrity_id\": 103\n  },\n  {\n    \"sale_id\": 5,\n    \"sale_date\": \"2025-03-20\",\n    \"product_id\": 904,\n    \"sale_amount\": null,\n    \"celebrity_id\": 104\n  },\n  {\n    \"sale_id\": 6,\n    \"sale_date\": \"2025-02-28\",\n    \"product_id\": 901,\n    \"sale_amount\": 1000,\n    \"celebrity_id\": 101\n  },\n  {\n    \"sale_id\": 7,\n    \"sale_date\": \"2025-03-25\",\n    \"product_id\": 902,\n    \"sale_amount\": 300,\n    \"celebrity_id\": 102\n  },\n  {\n    \"sale_id\": 8,\n    \"sale_date\": \"2025-03-30\",\n    \"product_id\": 905,\n    \"sale_amount\": 1800,\n    \"celebrity_id\": 105\n  },\n  {\n    \"sale_id\": 9,\n    \"sale_date\": \"2025-01-20\",\n    \"product_id\": 903,\n    \"sale_amount\": 1200,\n    \"celebrity_id\": 103\n  },\n  {\n    \"sale_id\": 10,\n    \"sale_date\": \"2025-02-05\",\n    \"product_id\": 906,\n    \"sale_amount\": 500,\n    \"celebrity_id\": 106\n  },\n  {\n    \"sale_id\": 11,\n    \"sale_date\": \"2025-03-01\",\n    \"product_id\": 907,\n    \"sale_amount\": 2200,\n    \"celebrity_id\": 107\n  },\n  {\n    \"sale_id\": 12,\n    \"sale_date\": \"2025-02-15\",\n    \"product_id\": 908,\n    \"sale_amount\": 1300,\n    \"celebrity_id\": 101\n  },\n  {\n    \"sale_id\": 13,\n    \"sale_date\": \"2025-03-15\",\n    \"product_id\": 909,\n    \"sale_amount\": null,\n    \"celebrity_id\": 102\n  },\n  {\n    \"sale_id\": 14,\n    \"sale_date\": \"2025-01-25\",\n    \"product_id\": 910,\n    \"sale_amount\": 900,\n    \"celebrity_id\": 108\n  },\n  {\n    \"sale_id\": 15,\n    \"sale_date\": \"2025-02-20\",\n    \"product_id\": 905,\n    \"sale_amount\": 700,\n    \"celebrity_id\": 105\n  },\n  {\n    \"sale_id\": 16,\n    \"sale_date\": \"2025-03-28\",\n    \"product_id\": 902,\n    \"sale_amount\": 1500,\n    \"celebrity_id\": 102\n  },\n  {\n    \"sale_id\": 17,\n    \"sale_date\": \"2024-11-15\",\n    \"product_id\": 901,\n    \"sale_amount\": 800,\n    \"celebrity_id\": 101\n  },\n  {\n    \"sale_id\": 18,\n    \"sale_date\": \"2024-07-30\",\n    \"product_id\": 902,\n    \"sale_amount\": 1000,\n    \"celebrity_id\": 102\n  },\n  {\n    \"sale_id\": 19,\n    \"sale_date\": \"2025-04-10\",\n    \"product_id\": 905,\n    \"sale_amount\": 2000,\n    \"celebrity_id\": 105\n  },\n  {\n    \"sale_id\": 20,\n    \"sale_date\": \"2024-09-05\",\n    \"product_id\": 903,\n    \"sale_amount\": 1100,\n    \"celebrity_id\": 103\n  }\n]\nfct_sales = pd.DataFrame(fct_sales_data)\n"
    },
    {
      "cell_type": "markdown",
      "metadata": {},
      "source": [
        "## Question 1\n\nFor Q1 2025 (January 1st through March 31st, 2025), can you identify all records of celebrity collaborations from the sales data where the sale_amount is missing? This will help us flag incomplete records that could impact the analysis of Nike's product performance."
      ]
    },
    {
      "cell_type": "code",
      "metadata": {},
      "execution_count": null,
      "outputs": [],
      "source": "# Note: pandas and numpy are already imported as pd and np\n# The following tables are loaded as pandas DataFrames with the same names: fct_sales\n# Please print your final result or dataframe\n# Nike Sales Analysis: Celebrity Collaborations with Missing Sale Amounts in Q1 2025\nimport pandas as pd\nimport numpy as np\n\nfct_sales['sale_date'] = pd.to_datetime(fct_sales['sale_date']).dt.normalize()\n\nq1_2025_sales = fct_sales[\n    (fct_sales['sale_date'] >= '2025-01-01') & \n    (fct_sales['sale_date'] <= '2025-03-31')\n]\n\nprint(\"=== Q1 2025 Sales Data Overview ===\")\nprint(f\"Total records in Q1 2025: {len(q1_2025_sales)}\")\nprint(f\"Date range: {q1_2025_sales['sale_date'].min()} to {q1_2025_sales['sale_date'].max()}\")\n\ncelebrity_collaborations_q1 = q1_2025_sales[q1_2025_sales['celebrity_id'].notna()]\n\nprint(f\"\\n=== Celebrity Collaboration Records in Q1 2025 ===\")\nprint(f\"Total celebrity collaboration records: {len(celebrity_collaborations_q1)}\")\n\nmissing_sale_amount = celebrity_collaborations_q1[celebrity_collaborations_q1['sale_amount'].isna()]\n\nprint(f\"\\n=== Celebrity Collaborations with Missing Sale Amounts ===\")\nprint(f\"Number of records with missing sale_amount: {len(missing_sale_amount)}\")\n\nif len(missing_sale_amount) > 0:\n    print(\"\\nDetailed breakdown:\")\n    print(f\"Percentage of celebrity collaboration records with missing amounts: {(len(missing_sale_amount) / len(celebrity_collaborations_q1) * 100):.2f}%\")\n    \n    print(\"\\n=== Records with Missing Sale Amounts ===\")\n    print(missing_sale_amount[['sale_id', 'celebrity_id', 'product_id', 'sale_date', 'sale_amount']])\n    \n    print(\"\\n=== Missing Records by Celebrity ===\")\n    celebrity_missing_counts = missing_sale_amount['celebrity_id'].value_counts()\n    print(celebrity_missing_counts)\n    \n    print(\"\\n=== Missing Records by Product ===\")\n    product_missing_counts = missing_sale_amount['product_id'].value_counts()\n    print(product_missing_counts.head(10))  \n  \n    print(\"\\n=== Missing Records by Date ===\")\n    date_missing_counts = missing_sale_amount['sale_date'].value_counts().sort_index()\n    print(date_missing_counts.head(10))  # Show first 10 dates\n    \nelse:\n    print(\"✅ No celebrity collaboration records found with missing sale amounts in Q1 2025!\")\n\n\nprint(f\"\\n=== Summary Statistics ===\")\nprint(f\"Total Q1 2025 records: {len(q1_2025_sales)}\")\nprint(f\"Celebrity collaboration records: {len(celebrity_collaborations_q1)}\")\nprint(f\"Records with missing sale_amount: {len(missing_sale_amount)}\")\nprint(f\"Complete celebrity collaboration records: {len(celebrity_collaborations_q1) - len(missing_sale_amount)}\")\n\nprint(f\"\\n=== FINAL RESULT: FLAGGED INCOMPLETE RECORDS ===\")\nif len(missing_sale_amount) > 0:\n    print(\"Sale IDs that need attention:\")\n    flagged_sale_ids = missing_sale_amount['sale_id'].tolist()\n    print(flagged_sale_ids)\nelse:\n    print(\"No incomplete celebrity collaboration records found in Q1 2025.\")\n\nfinal_result = missing_sale_amount\nprint(f\"\\nFinal DataFrame shape: {final_result.shape}\")\nprint(\"\\nFirst 5 records of flagged data:\")\nprint(final_result.head())"
    },
    {
      "cell_type": "markdown",
      "metadata": {},
      "source": [
        "## Question 2\n\nFor Q1 2025 (January 1st through March 31st, 2025), can you list the unique combinations of celebrity_id and product_id from the sales table? This will ensure that each collaboration is accurately accounted for in the analysis of Nike's marketing performance."
      ]
    },
    {
      "cell_type": "code",
      "metadata": {},
      "execution_count": null,
      "outputs": [],
      "source": "# Note: pandas and numpy are already imported as pd and np\n# The following tables are loaded as pandas DataFrames with the same names: fct_sales\n# Please print your final result or dataframe\n# Nike Sales Analysis: Celebrity Collaborations with Missing Sale Amounts in Q1 2025\n\nfct_sales['sale_date'] = pd.to_datetime(fct_sales['sale_date']).dt.normalize()\n\nq1_2025_sales = fct_sales[\n    (fct_sales['sale_date'] >= '2025-01-01') & \n    (fct_sales['sale_date'] <= '2025-03-31')\n]\n\nunique_combo = q1_2025_sales.drop_duplicates(subset=['celebrity_id', 'product_id'])\n\nprint(unique_combo)"
    },
    {
      "cell_type": "markdown",
      "metadata": {},
      "source": [
        "## Question 3\n\nFor Q1 2025 (January 1st through March 31st, 2025), can you rank the unique celebrity collaborations based on their total sales amounts and list the top 3 collaborations in descending order? This will help recommend the most successful partnerships for Nike's future product drop strategies."
      ]
    },
    {
      "cell_type": "code",
      "metadata": {},
      "execution_count": null,
      "outputs": [],
      "source": "fct_sales['sale_date'] = pd.to_datetime(fct_sales['sale_date']).dt.normalize()\n\nq1_2025_sales = fct_sales[\n    (fct_sales['sale_date'] >= '2025-01-01') & \n    (fct_sales['sale_date'] <= '2025-03-31')\n]\n\nceleb_colab_amount = q1_2025_sales.groupby('celebrity_id')['sale_amount'].sum().reset_index()\n\nranked_celeb = celeb_colab_amount.sort_values(by='sale_amount', ascending=False)\n\nprint('Top 3 Collaborations:')\nprint(ranked_celeb.head(3))"
    },
    {
      "cell_type": "markdown",
      "metadata": {},
      "source": [
        "Made with ❤️ by [Interview Master](https://www.interviewmaster.ai)"
      ]
    }
  ],
  "metadata": {
    "kernelspec": {
      "name": "python3",
      "language": "python",
      "display_name": "Python 3"
    },
    "language_info": {
      "name": "python",
      "version": "3",
      "mimetype": "text/x-python",
      "file_extension": ".py"
    }
  },
  "nbformat": 4,
  "nbformat_minor": 5
}
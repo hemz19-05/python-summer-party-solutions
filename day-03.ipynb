{
  "cells": [
    {
      "cell_type": "markdown",
      "metadata": {},
      "source": [
        "# Day 3: Disney Parks Guest Spending Behavior"
      ]
    },
    {
      "cell_type": "markdown",
      "metadata": {},
      "source": [
        "You are a data analyst working with the Disney Parks revenue team to understand nuanced guest spending patterns across different park experiences. The team wants to develop a comprehensive view of visitor purchasing behaviors. Your goal is to uncover meaningful insights that can drive personalized marketing strategies."
      ]
    },
    {
      "cell_type": "code",
      "metadata": {},
      "execution_count": null,
      "outputs": [],
      "source": "import pandas as pd\nimport numpy as np\n\nfct_guest_spending_data = [\n  {\n    \"guest_id\": 1,\n    \"visit_date\": \"2024-07-05\",\n    \"amount_spent\": 50,\n    \"park_experience_type\": \"Attraction\"\n  },\n  {\n    \"guest_id\": 2,\n    \"visit_date\": \"2024-07-06\",\n    \"amount_spent\": 30,\n    \"park_experience_type\": \"Dining\"\n  },\n  {\n    \"guest_id\": 3,\n    \"visit_date\": \"2024-07-10\",\n    \"amount_spent\": 20.5,\n    \"park_experience_type\": \"Retail\"\n  },\n  {\n    \"guest_id\": 4,\n    \"visit_date\": \"2024-07-12\",\n    \"amount_spent\": 40,\n    \"park_experience_type\": \"Entertainment\"\n  },\n  {\n    \"guest_id\": 1,\n    \"visit_date\": \"2024-07-15\",\n    \"amount_spent\": 35,\n    \"park_experience_type\": \"Dining\"\n  },\n  {\n    \"guest_id\": 5,\n    \"visit_date\": \"2024-07-20\",\n    \"amount_spent\": 60,\n    \"park_experience_type\": \"Attraction\"\n  },\n  {\n    \"guest_id\": 6,\n    \"visit_date\": \"2024-07-25\",\n    \"amount_spent\": 25,\n    \"park_experience_type\": \"Retail\"\n  },\n  {\n    \"guest_id\": 1,\n    \"visit_date\": \"2024-08-03\",\n    \"amount_spent\": 55,\n    \"park_experience_type\": \"Attraction\"\n  },\n  {\n    \"guest_id\": 1,\n    \"visit_date\": \"2024-08-15\",\n    \"amount_spent\": 45,\n    \"park_experience_type\": \"Dining\"\n  },\n  {\n    \"guest_id\": 2,\n    \"visit_date\": \"2024-08-05\",\n    \"amount_spent\": 22,\n    \"park_experience_type\": \"Retail\"\n  },\n  {\n    \"guest_id\": 2,\n    \"visit_date\": \"2024-08-20\",\n    \"amount_spent\": 38,\n    \"park_experience_type\": \"Entertainment\"\n  },\n  {\n    \"guest_id\": 7,\n    \"visit_date\": \"2024-08-10\",\n    \"amount_spent\": 15,\n    \"park_experience_type\": \"Character Meet\"\n  },\n  {\n    \"guest_id\": 3,\n    \"visit_date\": \"2024-08-25\",\n    \"amount_spent\": 28,\n    \"park_experience_type\": \"Retail\"\n  },\n  {\n    \"guest_id\": 3,\n    \"visit_date\": \"2024-08-27\",\n    \"amount_spent\": 32,\n    \"park_experience_type\": \"Dining\"\n  },\n  {\n    \"guest_id\": 1,\n    \"visit_date\": \"2024-09-02\",\n    \"amount_spent\": 65,\n    \"park_experience_type\": \"Attraction\"\n  },\n  {\n    \"guest_id\": 8,\n    \"visit_date\": \"2024-09-05\",\n    \"amount_spent\": 50,\n    \"park_experience_type\": \"Retail\"\n  },\n  {\n    \"guest_id\": 9,\n    \"visit_date\": \"2024-09-15\",\n    \"amount_spent\": 40,\n    \"park_experience_type\": \"Dining\"\n  },\n  {\n    \"guest_id\": 10,\n    \"visit_date\": \"2024-09-20\",\n    \"amount_spent\": 70,\n    \"park_experience_type\": \"Entertainment\"\n  },\n  {\n    \"guest_id\": 1,\n    \"visit_date\": \"2024-09-25\",\n    \"amount_spent\": 35,\n    \"park_experience_type\": \"Dining\"\n  },\n  {\n    \"guest_id\": 8,\n    \"visit_date\": \"2024-09-28\",\n    \"amount_spent\": 10,\n    \"park_experience_type\": \"Character Meet\"\n  }\n]\nfct_guest_spending = pd.DataFrame(fct_guest_spending_data)\n"
    },
    {
      "cell_type": "markdown",
      "metadata": {},
      "source": [
        "## Question 1\n\nWhat is the average spending per guest per visit for each park experience type during July 2024? Ensure that park experience types with no recorded transactions are shown with an average spending of 0.0. This analysis helps establish baseline spending differences essential for later segmentation."
      ]
    },
    {
      "cell_type": "code",
      "metadata": {},
      "execution_count": null,
      "outputs": [],
      "source": "# Note: pandas and numpy are already imported as pd and np\n# The following tables are loaded as pandas DataFrames with the same names: fct_guest_spending\n# Please print your final result or dataframe\nfct_guest_spending['visit_date'] = pd.to_datetime(fct_guest_spending['visit_date'])\n\njuly_df = fct_guest_spending[\n    (fct_guest_spending['visit_date'].dt.month == 7) &\n    (fct_guest_spending['visit_date'].dt.year == 2024)\n]\n\nguest_park_spend = july_df.groupby(['guest_id', 'park_experience_type'])['amount_spent'].sum().reset_index()\n\nguest_park_visits = july_df.groupby(['guest_id', 'park_experience_type'])['visit_date'].count().reset_index()\nguest_park_visits.rename(columns={'visit_date': 'visit_count'}, inplace=True)\n\nmerged = pd.merge(guest_park_spend, guest_park_visits, on=['guest_id', 'park_experience_type'])\n\nmerged['avg_spend_per_visit'] = merged['amount_spent'] / merged['visit_count']\n\nfinal_result = merged.groupby('park_experience_type')['avg_spend_per_visit'].mean().reset_index()\nall_types = fct_guest_spending['park_experience_type'].unique()\nfinal_result = final_result.set_index('park_experience_type').reindex(all_types, fill_value=0.0).reset_index()\n\nprint(final_result)"
    },
    {
      "cell_type": "markdown",
      "metadata": {},
      "source": [
        "## Question 2\n\nFor guests who visited our parks more than once in August 2024, what is the difference in spending between their first and their last visit? This investigation, using sequential analysis, will reveal any shifts in guest spending behavior over multiple visits."
      ]
    },
    {
      "cell_type": "code",
      "metadata": {},
      "execution_count": null,
      "outputs": [],
      "source": "fct_guest_spending['visit_date'] = pd.to_datetime(fct_guest_spending['visit_date']).dt.normalize()\naug_df = fct_guest_spending[\n  (fct_guest_spending['visit_date'].dt.month == 8) &\n  (fct_guest_spending['visit_date'].dt.year == 2024)]\nguest_park_visits = aug_df.groupby('guest_id')['visit_date'].count().reset_index()\nguest_park_visits = guest_park_visits.rename(columns={'visit_date':'visit_count'})\nrepeat_guests = guest_park_visits[guest_park_visits['visit_count'] > 1 ]\naug_repeat_df = aug_df[aug_df['guest_id'].isin(repeat_guests['guest_id'])]\naug_repeat_df = aug_repeat_df.sort_values(by=['guest_id', 'visit_date'])\nfirst_last = aug_repeat_df.groupby('guest_id').agg(\n  first_visit =('visit_date', 'first'), last_visit=('visit_date', 'last')).reset_index()\nfirst_spend = aug_repeat_df.merge(first_last[['guest_id', 'first_visit']],\n                                 left_on=['guest_id', 'visit_date'],\n                                 right_on=['guest_id', 'first_visit'])[['guest_id', 'amount_spent']]\nfirst_spend.rename(columns={'amount_spent':'first_spending'}, inplace=True)\nlast_spend = aug_repeat_df.merge(first_last[['guest_id', 'last_visit']],\n                                 left_on=['guest_id', 'visit_date'],\n                                 right_on=['guest_id', 'last_visit'])[['guest_id', 'amount_spent']]\nlast_spend.rename(columns={'amount_spent':'last_spending'}, inplace=True)\n\nmerged_spending = pd.merge(first_spend, last_spend, on='guest_id')\nmerged_spending['spending_diff'] = merged_spending['last_spending'] - merged_spending['first_spending']\nprint(merged_spending[['guest_id', 'first_spending', 'last_spending', 'spending_diff']])"
    },
    {
      "cell_type": "markdown",
      "metadata": {},
      "source": [
        "## Question 3\n\nIn September 2024, how can guests be categorized into distinct spending segments such as Low, Medium, and High based on their total spending? Use the following thresholds for categorization: \n-Low: Includes values from $0 up to, but not including, $50.\n-Medium: Includes values from $50 up to, but not including, $100.\n-High: Includes values from $100 and above. \nExclude guests who did not make any purchases in the period."
      ]
    },
    {
      "cell_type": "code",
      "metadata": {},
      "execution_count": null,
      "outputs": [],
      "source": "fct_guest_spending['visit_date'] = pd.to_datetime(fct_guest_spending['visit_date']).dt.normalize()\nsept_df = fct_guest_spending[\n  (fct_guest_spending['visit_date'].dt.month == 9) &\n  (fct_guest_spending['visit_date'].dt.year == 2024)]\nsept_spent = sept_df.groupby('guest_id')['amount_spent'].sum().reset_index()\nsept_spent = sept_spent.rename(columns={'amount_spent':'total_spent_sept'})\nsept_spent = sept_spent[sept_spent['total_spent_sept'] > 0]\nconditions = [\n  (sept_spent['total_spent_sept'] < 50),\n  (sept_spent['total_spent_sept'] >= 50) & (sept_spent['total_spent_sept'] < 100),\n  (sept_spent['total_spent_sept'] >= 100)]\n\nchoices = ['Low', 'Medium', 'High']\n\nsept_spent['spending_segment'] = np.select(conditions, choices, default='Unknown')\n\nprint(sept_spent[['guest_id', 'total_spent_sept', 'spending_segment']])"
    },
    {
      "cell_type": "markdown",
      "metadata": {},
      "source": [
        "Made with ❤️ by [Interview Master](https://www.interviewmaster.ai)"
      ]
    }
  ],
  "metadata": {
    "kernelspec": {
      "name": "python3",
      "language": "python",
      "display_name": "Python 3"
    },
    "language_info": {
      "name": "python",
      "version": "3",
      "mimetype": "text/x-python",
      "file_extension": ".py"
    }
  },
  "nbformat": 4,
  "nbformat_minor": 5
}